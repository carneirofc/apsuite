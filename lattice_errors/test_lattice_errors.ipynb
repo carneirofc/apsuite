{
 "cells": [
  {
   "cell_type": "code",
   "execution_count": 1,
   "metadata": {
    "collapsed": false
   },
   "outputs": [],
   "source": [
    "import numpy as np\n",
    "import scipy.optimize as scyopt\n",
    "import matplotlib.pyplot as plt\n",
    "import cProfile\n",
    "\n",
    "import pyaccel, sirius\n",
    "import mathphys as mp\n",
    "%load_ext autoreload\n",
    "%autoreload 1\n",
    "%aimport lattice_errors"
   ]
  },
  {
   "cell_type": "code",
   "execution_count": 3,
   "metadata": {
    "collapsed": false
   },
   "outputs": [],
   "source": [
    "acc      = sirius.SI_V12.create_accelerator()\n",
    "fam_data = sirius.SI_V12.get_family_data(acc)"
   ]
  },
  {
   "cell_type": "code",
   "execution_count": 5,
   "metadata": {
    "collapsed": false
   },
   "outputs": [],
   "source": [
    "um, mrad, percent = 1e-6, 1e-3, 1e-2\n",
    "config = dict({'mags':dict(),'girder':dict()})\n",
    "\n",
    "config['mags']['quads'] = dict({'labels':list(),'sigma':dict()})\n",
    "config['mags']['quads']['labels'] = ['qfa','qda','qdb1','qdb2','qfb','qf1','qf2','qf3','qf4']\n",
    "config['mags']['quads']['sigma']['x']     = 40 * um * 1\n",
    "config['mags']['quads']['sigma']['y']     = 40 * um * 1\n",
    "config['mags']['quads']['sigma']['roll']  = 0.30 * mrad * 1\n",
    "config['mags']['quads']['sigma']['excit'] = 0.05 * percent * 1\n",
    "\n",
    "config['mags']['sexts'] = dict({'labels':list(),'sigma':dict()})\n",
    "config['mags']['sexts']['labels'] = ['sfa','sda','sf1j','sd1j','sd2j','sd3j','sf2j',\n",
    "                                     'sdb','sfb','sf1k','sd1k','sd2k','sd3k','sf2k']\n",
    "config['mags']['sexts']['sigma']['x']     = 40 * um * 1\n",
    "config['mags']['sexts']['sigma']['y']     = 40 * um * 1\n",
    "config['mags']['sexts']['sigma']['roll']  = 0.30 * mrad * 1\n",
    "config['mags']['sexts']['sigma']['excit'] = 0.05 * percent * 1\n",
    "\n",
    "config['mags']['bc'] = dict({'labels':list(),'sigma':dict()})\n",
    "config['mags']['bc']['labels'] = ['bc_lf','bc_hf']\n",
    "config['mags']['bc']['sigma']['x']     = 40 * um * 1\n",
    "config['mags']['bc']['sigma']['y']     = 40 * um * 1\n",
    "config['mags']['bc']['sigma']['roll']  = 0.30 * mrad * 1\n",
    "config['mags']['bc']['sigma']['excit'] = 0.05 * percent * 1\n",
    "config['mags']['bc']['sigma']['k_dip'] = 0.10 * percent * 1\n",
    "\n",
    "config['mags']['bendblocks'] = dict({'labels':list(),'sigma':dict()})\n",
    "config['mags']['bendblocks']['labels'] = ['b1','b2']\n",
    "config['mags']['bendblocks']['nrsegs'] = [1,1]\n",
    "config['mags']['bendblocks']['sigma']['x']      = 40 * um * 1\n",
    "config['mags']['bendblocks']['sigma']['y']      = 40 * um * 1\n",
    "config['mags']['bendblocks']['sigma']['roll']   = 0.30 * mrad * 1\n",
    "config['mags']['bendblocks']['sigma']['excit']  = 0.05 * percent * 1\n",
    "config['mags']['bendblocks']['sigma']['k_dip']  = 0.10 * percent * 1\n",
    "\n",
    "#config['girder']['x']     = 80 * um * 1\n",
    "#config['girder']['y']     = 80 * um * 1;\n",
    "#config['girder']['roll']  = 0.2 * mrad * 1;\n",
    "\n",
    "errors = lattice_errors.generate_errors(acc,config,fam_data=fam_data,nr_mach=20,cutoff=1,rndtype='gauss',seed=19880419)"
   ]
  },
  {
   "cell_type": "code",
   "execution_count": 6,
   "metadata": {
    "collapsed": false
   },
   "outputs": [
    {
     "name": "stdout",
     "output_type": "stream",
     "text": [
      "    ------------------------------- \n",
      "   |   codx [mm]   |   cody [mm]   |\n",
      "   | (max)   (rms) | (max)   (rms) |\n",
      "---|-------------------------------|\n",
      "000|  6.68    2.35 |  6.39    2.38 |\n",
      "001| 12.36    4.33 |  6.32    2.00 |\n",
      "002|  5.94    2.16 |  4.30    1.46 |\n",
      "003|  2.69    0.61 |  6.78    2.57 |\n",
      "004|  8.71    2.65 |  5.85    2.28 |\n",
      "005|  5.14    1.39 |  7.14    2.60 |\n",
      "006|  8.03    2.66 |  3.70    0.93 |\n",
      "007|  4.53    1.39 |  4.87    1.50 |\n",
      "008|  5.43    1.83 |  4.02    0.88 |\n",
      "009|  5.59    1.62 |  4.14    1.46 |\n",
      "010|  6.33    2.23 |  3.73    1.31 |\n",
      "011| 12.50    4.33 |  5.07    1.91 |\n",
      "012| 12.01    4.10 |  3.60    1.21 |\n",
      "013|  4.39    1.47 |  5.61    1.89 |\n",
      "014|  4.60    1.25 |  5.47    1.59 |\n",
      "015|  7.35    2.58 |  2.98    0.93 |\n",
      "016| 11.41    4.11 |  7.46    2.75 |\n",
      "017|  8.18    2.44 |  3.76    1.20 |\n",
      "018|  2.63    0.69 |  6.32    2.30 |\n",
      "019|  5.83    1.64 |  4.97    1.37 |\n",
      "------------------------------------\n"
     ]
    }
   ],
   "source": [
    "machine = lattice_errors.apply_erros(acc,errors,increment=1.0)"
   ]
  },
  {
   "cell_type": "code",
   "execution_count": 8,
   "metadata": {
    "collapsed": false
   },
   "outputs": [
    {
     "name": "stdout",
     "output_type": "stream",
     "text": [
      "correcting closed-orbit distortions\n",
      "sextupole ramp: [0, 1]\n",
      "selection of singular values: 280\n",
      "maximum number of orbit correction iterations:  20\n",
      "tolerance: 1.00e-05\n",
      "\n",
      "    -----------------------------------------------------------------------------------------------\n",
      "   |           codx [um]           |           cody [um]           |  kickx[urad]     kicky[urad]  | (nr_iter|nr_refactor)\n",
      "   |      all             bpm      |      all             bpm      |                               | [sextupole ramp]\n",
      "   | (max)   (rms) | (max)   (rms) | (max)   (rms) | (max)   (rms) | (max)   (rms) | (max)   (rms) | 0.00000 1.00000\n",
      "\n",
      "---|---------------------------------------------------------------|-------------------------------| \n"
     ]
    },
    {
     "ename": "TypeError",
     "evalue": "invalid index",
     "output_type": "error",
     "traceback": [
      "\u001b[1;31m---------------------------------------------------------------------------\u001b[0m",
      "\u001b[1;31mTypeError\u001b[0m                                 Traceback (most recent call last)",
      "\u001b[1;32m<ipython-input-8-1e47e58b22fb>\u001b[0m in \u001b[0;36m<module>\u001b[1;34m()\u001b[0m\n\u001b[0;32m     13\u001b[0m                 'bpm_err':dict({'sigma':(30e-6,30e-6),'cutoff':2})})\n\u001b[0;32m     14\u001b[0m \u001b[0mmachine2\u001b[0m \u001b[1;33m=\u001b[0m \u001b[1;33m[\u001b[0m\u001b[0mmachine\u001b[0m\u001b[1;33m[\u001b[0m\u001b[0mi\u001b[0m\u001b[1;33m]\u001b[0m\u001b[1;33m[\u001b[0m\u001b[1;33m:\u001b[0m\u001b[1;33m]\u001b[0m \u001b[1;32mfor\u001b[0m \u001b[0mi\u001b[0m \u001b[1;32min\u001b[0m \u001b[0mrange\u001b[0m\u001b[1;33m(\u001b[0m\u001b[0mlen\u001b[0m\u001b[1;33m(\u001b[0m\u001b[0mmachine\u001b[0m\u001b[1;33m)\u001b[0m\u001b[1;33m)\u001b[0m\u001b[1;33m]\u001b[0m\u001b[1;33m\u001b[0m\u001b[0m\n\u001b[1;32m---> 15\u001b[1;33m \u001b[0mgcodx\u001b[0m\u001b[1;33m,\u001b[0m \u001b[0mgcody\u001b[0m \u001b[1;33m=\u001b[0m \u001b[0mlattice_errors\u001b[0m\u001b[1;33m.\u001b[0m\u001b[0mcorrect_cod\u001b[0m\u001b[1;33m(\u001b[0m\u001b[0mmachine2\u001b[0m\u001b[1;33m,\u001b[0m\u001b[0mcor_conf\u001b[0m\u001b[1;33m)\u001b[0m\u001b[1;33m\u001b[0m\u001b[0m\n\u001b[0m",
      "\u001b[1;32m/home/fac_files/code/apsuite/lattice_errors/lattice_errors.py\u001b[0m in \u001b[0;36mcorrect_cod\u001b[1;34m(machine, cor_conf, gcodx, gcody)\u001b[0m\n\u001b[0;32m    329\u001b[0m \u001b[1;33m\u001b[0m\u001b[0m\n\u001b[0;32m    330\u001b[0m             hkck,vkck,codx,cody,niter[j],ntimes[j] = cod_sg(machine[i],bpms,hcms,vcms,\n\u001b[1;32m--> 331\u001b[1;33m                 respm=respm,nr_iters=nr_iter,svs=svs,tolerance=tol,gcodx=Tgcodx,gcody=Tgcody)\n\u001b[0m\u001b[0;32m    332\u001b[0m             \u001b[1;32mif\u001b[0m \u001b[0many\u001b[0m\u001b[1;33m(\u001b[0m\u001b[1;33m[\u001b[0m\u001b[0m_np\u001b[0m\u001b[1;33m.\u001b[0m\u001b[0misnan\u001b[0m\u001b[1;33m(\u001b[0m\u001b[0mcodx\u001b[0m\u001b[1;33m)\u001b[0m\u001b[1;33m.\u001b[0m\u001b[0many\u001b[0m\u001b[1;33m(\u001b[0m\u001b[1;33m)\u001b[0m\u001b[1;33m,\u001b[0m\u001b[0m_np\u001b[0m\u001b[1;33m.\u001b[0m\u001b[0misnan\u001b[0m\u001b[1;33m(\u001b[0m\u001b[0mcody\u001b[0m\u001b[1;33m)\u001b[0m\u001b[1;33m.\u001b[0m\u001b[0many\u001b[0m\u001b[1;33m(\u001b[0m\u001b[1;33m)\u001b[0m\u001b[1;33m]\u001b[0m\u001b[1;33m)\u001b[0m\u001b[1;33m:\u001b[0m\u001b[1;33m\u001b[0m\u001b[0m\n\u001b[0;32m    333\u001b[0m                 \u001b[0mprint\u001b[0m\u001b[1;33m(\u001b[0m\u001b[1;34m'Machine {0:03d} became unstable when sextupole strength was {1:5.3f}'\u001b[0m\u001b[1;33m.\u001b[0m\u001b[0mformat\u001b[0m\u001b[1;33m(\u001b[0m\u001b[0mi\u001b[0m\u001b[1;33m,\u001b[0m\u001b[0msext_ramp\u001b[0m\u001b[1;33m[\u001b[0m\u001b[0mj\u001b[0m\u001b[1;33m]\u001b[0m\u001b[1;33m)\u001b[0m\u001b[1;33m)\u001b[0m\u001b[1;33m\u001b[0m\u001b[0m\n",
      "\u001b[1;32m/home/fac_files/code/apsuite/lattice_errors/lattice_errors.py\u001b[0m in \u001b[0;36mcod_sg\u001b[1;34m(acc, bpms, hcms, vcms, respm, nr_iters, svs, tolerance, gcodx, gcody)\u001b[0m\n\u001b[0;32m    482\u001b[0m     \u001b[0mcorrs\u001b[0m \u001b[1;33m=\u001b[0m \u001b[0m_np\u001b[0m\u001b[1;33m.\u001b[0m\u001b[0marray\u001b[0m\u001b[1;33m(\u001b[0m\u001b[1;33m[\u001b[0m\u001b[0m_mp\u001b[0m\u001b[1;33m.\u001b[0m\u001b[0mutils\u001b[0m\u001b[1;33m.\u001b[0m\u001b[0mflatten\u001b[0m\u001b[1;33m(\u001b[0m\u001b[0mhcms\u001b[0m\u001b[1;33m)\u001b[0m\u001b[1;33m,\u001b[0m\u001b[0m_mp\u001b[0m\u001b[1;33m.\u001b[0m\u001b[0mutils\u001b[0m\u001b[1;33m.\u001b[0m\u001b[0mflatten\u001b[0m\u001b[1;33m(\u001b[0m\u001b[0mvcms\u001b[0m\u001b[1;33m)\u001b[0m\u001b[1;33m]\u001b[0m\u001b[1;33m)\u001b[0m\u001b[1;33m.\u001b[0m\u001b[0mravel\u001b[0m\u001b[1;33m(\u001b[0m\u001b[1;33m)\u001b[0m\u001b[1;33m\u001b[0m\u001b[0m\n\u001b[0;32m    483\u001b[0m     \u001b[0mbest_fm\u001b[0m \u001b[1;33m=\u001b[0m \u001b[1;33m(\u001b[0m\u001b[0mcod\u001b[0m \u001b[1;33m-\u001b[0m \u001b[0mgcod\u001b[0m\u001b[1;33m)\u001b[0m\u001b[1;33m.\u001b[0m\u001b[0mstd\u001b[0m\u001b[1;33m(\u001b[0m\u001b[0mddof\u001b[0m\u001b[1;33m=\u001b[0m\u001b[1;36m1\u001b[0m\u001b[1;33m)\u001b[0m\u001b[1;33m\u001b[0m\u001b[0m\n\u001b[1;32m--> 484\u001b[1;33m     \u001b[0mbest_acc\u001b[0m \u001b[1;33m=\u001b[0m \u001b[0macc\u001b[0m\u001b[1;33m[\u001b[0m\u001b[0mcorrs\u001b[0m\u001b[1;33m]\u001b[0m\u001b[1;33m\u001b[0m\u001b[0m\n\u001b[0m\u001b[0;32m    485\u001b[0m     \u001b[0mfactor\u001b[0m\u001b[1;33m,\u001b[0m \u001b[0mntimes\u001b[0m \u001b[1;33m=\u001b[0m \u001b[1;36m1\u001b[0m\u001b[1;33m,\u001b[0m \u001b[1;36m0\u001b[0m\u001b[1;33m\u001b[0m\u001b[0m\n\u001b[0;32m    486\u001b[0m     \u001b[1;32mfor\u001b[0m \u001b[0miters\u001b[0m \u001b[1;32min\u001b[0m \u001b[0mrange\u001b[0m\u001b[1;33m(\u001b[0m\u001b[0mnr_iters\u001b[0m\u001b[1;33m)\u001b[0m\u001b[1;33m:\u001b[0m\u001b[1;33m\u001b[0m\u001b[0m\n",
      "\u001b[1;32m/home/fac_files/code/pyaccel/pyaccel/accelerator.py\u001b[0m in \u001b[0;36m__getitem__\u001b[1;34m(self, index)\u001b[0m\n\u001b[0;32m     93\u001b[0m             \u001b[0mlattice\u001b[0m \u001b[1;33m=\u001b[0m \u001b[0mself\u001b[0m\u001b[1;33m.\u001b[0m\u001b[0m_accelerator\u001b[0m\u001b[1;33m.\u001b[0m\u001b[0mlattice\u001b[0m\u001b[1;33m[\u001b[0m\u001b[0mindex\u001b[0m\u001b[1;33m]\u001b[0m\u001b[1;33m\u001b[0m\u001b[0m\n\u001b[0;32m     94\u001b[0m         \u001b[1;32melse\u001b[0m\u001b[1;33m:\u001b[0m\u001b[1;33m\u001b[0m\u001b[0m\n\u001b[1;32m---> 95\u001b[1;33m             \u001b[1;32mraise\u001b[0m \u001b[0mTypeError\u001b[0m\u001b[1;33m(\u001b[0m\u001b[1;34m'invalid index'\u001b[0m\u001b[1;33m)\u001b[0m\u001b[1;33m\u001b[0m\u001b[0m\n\u001b[0m\u001b[0;32m     96\u001b[0m         a = Accelerator(\n\u001b[0;32m     97\u001b[0m                 \u001b[0mlattice\u001b[0m\u001b[1;33m=\u001b[0m\u001b[0mlattice\u001b[0m\u001b[1;33m,\u001b[0m\u001b[1;33m\u001b[0m\u001b[0m\n",
      "\u001b[1;31mTypeError\u001b[0m: invalid index"
     ]
    }
   ],
   "source": [
    "r = lattice_errors.calc_respm_cod(acc,\n",
    "                                  fam_data['bpm']['index'],\n",
    "                                  fam_data['ch']['index'],\n",
    "                                  fam_data['cv']['index'],\n",
    "                                  symmetry=10)\n",
    "\n",
    "bba_ind = lattice_errors.get_bba_ind(acc,fam_data['bpm']['index'])\n",
    "\n",
    "cor_conf = dict({'bpms':fam_data['bpm']['index'],\n",
    "                 'hcms':fam_data['ch']['index'],\n",
    "                 'vcms':fam_data['cv']['index'],\n",
    "                 'sext_ramp':[0,1], 'respm':r, 'bba':bba_ind,\n",
    "                'bpm_err':dict({'sigma':(30e-6,30e-6),'cutoff':2})})\n",
    "machine2 = [machine[i][:] for i in range(len(machine))]\n",
    "gcodx, gcody = lattice_errors.correct_cod(machine2,cor_conf)"
   ]
  },
  {
   "cell_type": "code",
   "execution_count": null,
   "metadata": {
    "collapsed": true
   },
   "outputs": [],
   "source": []
  }
 ],
 "metadata": {
  "kernelspec": {
   "display_name": "Python 3",
   "language": "python",
   "name": "python3"
  },
  "language_info": {
   "codemirror_mode": {
    "name": "ipython",
    "version": 3
   },
   "file_extension": ".py",
   "mimetype": "text/x-python",
   "name": "python",
   "nbconvert_exporter": "python",
   "pygments_lexer": "ipython3",
   "version": "3.4.0"
  }
 },
 "nbformat": 4,
 "nbformat_minor": 0
}
