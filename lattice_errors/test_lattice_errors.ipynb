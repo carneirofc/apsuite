{
 "cells": [
  {
   "cell_type": "code",
   "execution_count": 1,
   "metadata": {
    "collapsed": true
   },
   "outputs": [],
   "source": [
    "import numpy as np\n",
    "import matplotlib.pyplot as plt\n",
    "\n",
    "import pyaccel, sirius\n",
    "import mathphys as mp\n",
    "import lattice_errors\n",
    "np.random.seed(19880419)"
   ]
  },
  {
   "cell_type": "code",
   "execution_count": null,
   "metadata": {
    "collapsed": true
   },
   "outputs": [],
   "source": [
    "acc      = sirius.SI_V10.create_accelerator()\n",
    "fam_data = sirius.SI_V10.get_family_data(acc)"
   ]
  },
  {
   "cell_type": "code",
   "execution_count": null,
   "metadata": {
    "collapsed": false
   },
   "outputs": [],
   "source": [
    "um, mrad, percent = 1e-6, 1e-3, 1e-2\n",
    "config = dict({'mags':dict(),'girder':dict()})\n",
    "config['mags']['quads'] = dict({'labels':list(),'sigma':dict()})\n",
    "config['mags']['quads']['labels'] += ['qfa','qdb2','qfb']\n",
    "config['mags']['quads']['sigma']['x']     = 40 * um * 1\n",
    "config['mags']['quads']['sigma']['y']     = 40 * um * 1\n",
    "config['mags']['quads']['sigma']['roll']  = 0.20 * mrad * 1\n",
    "config['mags']['quads']['sigma']['excit'] = 0.05 * percent * 1\n",
    "config['mags']['dips'] = dict({'labels':list(),'sigma':dict()})\n",
    "config['mags']['dips']['labels'] += ['b1','b2']\n",
    "config['mags']['dips']['sigma']['x']     = 40 * um * 1\n",
    "config['mags']['dips']['sigma']['y']     = 40 * um * 1\n",
    "\n",
    "errors = lattice_errors.generate_errors('name',acc,config,fam_data=fam_data,nr_mach=20,cutoff=1,rndtype='gauss')"
   ]
  },
  {
   "cell_type": "code",
   "execution_count": null,
   "metadata": {
    "collapsed": false
   },
   "outputs": [],
   "source": [
    "plt.plot(errors['x'][:6].T,'.')\n",
    "plt.show()"
   ]
  },
  {
   "cell_type": "code",
   "execution_count": null,
   "metadata": {
    "collapsed": false
   },
   "outputs": [],
   "source": [
    "config['girder']['x']     = 4 * um * 1\n",
    "config['girder']['y']     = 4 * um * 1;\n",
    "config['girder']['roll']  =0.02 * mrad * 1;\n",
    "config['girder']['yaw']   =  20 * mrad * 0;\n",
    "config['girder']['pitch'] =  20 * mrad * 0;\n",
    "\n",
    "errors = lattice_errors.generate_errors('name',acc,config,fam_data=fam_data,nr_mach=20,cutoff=3,rndtype='gauss')"
   ]
  },
  {
   "cell_type": "code",
   "execution_count": null,
   "metadata": {
    "collapsed": false
   },
   "outputs": [],
   "source": [
    "plt.plot(errors['x'][:6].T,'.')\n",
    "plt.show()"
   ]
  },
  {
   "cell_type": "code",
   "execution_count": null,
   "metadata": {
    "collapsed": false
   },
   "outputs": [],
   "source": []
  },
  {
   "cell_type": "code",
   "execution_count": null,
   "metadata": {
    "collapsed": true
   },
   "outputs": [],
   "source": []
  }
 ],
 "metadata": {
  "kernelspec": {
   "display_name": "Python 3",
   "language": "python",
   "name": "python3"
  },
  "language_info": {
   "codemirror_mode": {
    "name": "ipython",
    "version": 3
   },
   "file_extension": ".py",
   "mimetype": "text/x-python",
   "name": "python",
   "nbconvert_exporter": "python",
   "pygments_lexer": "ipython3",
   "version": "3.4.0"
  }
 },
 "nbformat": 4,
 "nbformat_minor": 0
}
