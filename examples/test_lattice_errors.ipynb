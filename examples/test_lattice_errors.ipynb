{
 "cells": [
  {
   "cell_type": "code",
   "execution_count": null,
   "metadata": {
    "collapsed": false
   },
   "outputs": [],
   "source": [
    "import numpy as np\n",
    "import scipy.optimize as scyopt\n",
    "import matplotlib.pyplot as plt\n",
    "import cProfile\n",
    "\n",
    "import pyaccel, sirius\n",
    "import mathphys as mp\n",
    "%load_ext autoreload\n",
    "%autoreload 1\n",
    "%aimport lattice_errors"
   ]
  },
  {
   "cell_type": "code",
   "execution_count": null,
   "metadata": {
    "collapsed": false
   },
   "outputs": [],
   "source": [
    "#import sirius.SI_V10 as v10\n",
    "#acc      = v10.create_accelerator()\n",
    "#fam_data = v10.get_family_data(acc)\n",
    "\n",
    "acc      = sirius.SI_V12.create_accelerator()\n",
    "fam_data = sirius.SI_V12.get_family_data(acc)"
   ]
  },
  {
   "cell_type": "markdown",
   "metadata": {},
   "source": [
    "# Testing Creation of Errors"
   ]
  },
  {
   "cell_type": "code",
   "execution_count": null,
   "metadata": {
    "collapsed": false
   },
   "outputs": [],
   "source": [
    "um, mrad, percent = 1e-6, 1e-3, 1e-2\n",
    "config = dict({'mags':dict(),'girder':dict()})\n",
    "mags = []\n",
    "dics = dict()\n",
    "dics['labels'] = ['qfa','qda','qdb1','qdb2','qfb','qf1','qf2','qf3','qf4']\n",
    "dics['x']     = 40 * um * 1\n",
    "dics['y']     = 40 * um * 1\n",
    "dics['roll']  = 0.30 * mrad * 1\n",
    "dics['excit'] = 0.05 * percent * 1\n",
    "mags.append(dics)\n",
    "\n",
    "dics = dict()\n",
    "dics['labels']   = ['sfa','sda','sf1j','sd1j','sd2j','sd3j','sf2j',\n",
    "                    'sdb','sfb','sf1k','sd1k','sd2k','sd3k','sf2k']\n",
    "dics['x']     = 40 * um * 1\n",
    "dics['y']     = 40 * um * 1\n",
    "dics['roll']  = 0.30 * mrad * 1\n",
    "dics['excit'] = 0.05 * percent * 1\n",
    "mags.append(dics)\n",
    "\n",
    "dics = dict()\n",
    "dics['labels']= ['bc_lf','bc_hf']\n",
    "dics['x']     = 40 * um * 1\n",
    "dics['y']     = 40 * um * 1\n",
    "dics['roll']  = 0.30 * mrad * 1\n",
    "dics['excit'] = 0.05 * percent * 1\n",
    "dics['k_dip'] = 0.10 * percent * 1\n",
    "mags.append(dics)\n",
    "\n",
    "dics = dict()\n",
    "dics['labels'] = ['b1','b2']\n",
    "dics['nrsegs'] = [1,1]\n",
    "dics['x']      = 40 * um * 1\n",
    "dics['y']      = 40 * um * 1\n",
    "dics['roll']   = 0.30 * mrad * 1\n",
    "dics['excit']  = 0.05 * percent * 1\n",
    "dics['k_dip']  = 0.10 * percent * 1\n",
    "mags.append(dics)\n",
    "\n",
    "girder = dict()\n",
    "girder['x']    = 80 * um * 1\n",
    "girder['y']    = 80 * um * 1\n",
    "girder['roll'] = 0.3 * mrad * 1\n",
    "\n",
    "errors = lattice_errors.generate_errors(acc,mags,girder,fam_data=fam_data,nr_mach=20,cutoff=1,rndtype='gauss',seed=19880419)"
   ]
  },
  {
   "cell_type": "markdown",
   "metadata": {},
   "source": [
    "# Testing application of errors"
   ]
  },
  {
   "cell_type": "code",
   "execution_count": null,
   "metadata": {
    "collapsed": false
   },
   "outputs": [],
   "source": [
    "machine = lattice_errors.apply_erros(acc,errors,increment=1.0)"
   ]
  },
  {
   "cell_type": "markdown",
   "metadata": {},
   "source": [
    "# Orbit Correction"
   ]
  },
  {
   "cell_type": "code",
   "execution_count": null,
   "metadata": {
    "collapsed": false
   },
   "outputs": [],
   "source": [
    "r = lattice_errors.calc_respm_cod(acc,\n",
    "                                  fam_data['bpm']['index'],\n",
    "                                  fam_data['ch']['index'],\n",
    "                                  fam_data['cv']['index'],\n",
    "                                  symmetry=10)\n",
    "\n",
    "bba_ind = lattice_errors.get_bba_ind(acc,fam_data['bpm']['index'])\n",
    "\n",
    "cor_conf = dict({'bpms':fam_data['bpm']['index'],\n",
    "                 'hcms':fam_data['ch']['index'],\n",
    "                 'vcms':fam_data['cv']['index'],\n",
    "                 'bpm_err':dict({'sigma':(20e-6,20e-6),'cutoff':1})})\n",
    "machine2 = [machine[i][:] for i in range(len(machine))]\n",
    "gcodx, gcody = lattice_errors.correct_cod(machine2,ind_bba=bba_ind,sext_ramp=[0,1],respm=r,**cor_conf)"
   ]
  },
  {
   "cell_type": "markdown",
   "metadata": {},
   "source": [
    "# Testing the algorithm to calculate coupling"
   ]
  },
  {
   "cell_type": "code",
   "execution_count": null,
   "metadata": {
    "collapsed": false
   },
   "outputs": [],
   "source": [
    "for acc in machine2: \n",
    "    print(pyaccel.optics.calc_emittance_coupling(acc)*100)"
   ]
  },
  {
   "cell_type": "code",
   "execution_count": null,
   "metadata": {
    "collapsed": true
   },
   "outputs": [],
   "source": [
    "def fitEllipse(x,y):\n",
    "    x = x[:,np.newaxis]\n",
    "    y = y[:,np.newaxis]\n",
    "    D = np.hstack((x*x, x*y, y*y, x, y, np.ones_like(x)))\n",
    "    S = np.dot(D.T,D)\n",
    "    C = np.zeros([6,6])\n",
    "    C[0,2] = C[2,0] = 2; C[1,1] = -1\n",
    "    E, V =  np.linalg.eig(np.linalg.solve(S, C))\n",
    "    n = np.argmax(np.abs(E))\n",
    "    a = V[:,n]\n",
    "    return a\n",
    "def ellipse_center(a):\n",
    "    b,c,d,f,g,a = a[1]/2, a[2], a[3]/2, a[4]/2, a[5], a[0]\n",
    "    num = b*b-a*c\n",
    "    x0=(c*d-b*f)/num\n",
    "    y0=(a*f-b*d)/num\n",
    "    return np.array([x0,y0])\n",
    "def ellipse_angle_of_rotation( a ):\n",
    "    b,c,d,f,g,a = a[1]/2, a[2], a[3]/2, a[4]/2, a[5], a[0]\n",
    "    return 0.5*np.arctan(2*b/(a-c))\n",
    "def ellipse_axis_length( a ):\n",
    "    b,c,d,f,g,a = a[1]/2, a[2], a[3]/2, a[4]/2, a[5], a[0]\n",
    "    up = 2*(a*f*f+c*d*d+g*b*b-2*b*d*f-a*c*g)\n",
    "    down1=(b*b-a*c)*( (c-a)*np.sqrt(1+4*b*b/((a-c)*(a-c)))-(c+a))\n",
    "    down2=(b*b-a*c)*( (a-c)*np.sqrt(1+4*b*b/((a-c)*(a-c)))-(c+a))\n",
    "    res1=np.sqrt(up/down1)\n",
    "    res2=np.sqrt(up/down2)\n",
    "    return np.array([res1, res2])"
   ]
  },
  {
   "cell_type": "code",
   "execution_count": null,
   "metadata": {
    "collapsed": false
   },
   "outputs": [],
   "source": [
    "acc = machine2[17]\n",
    "orb = pyaccel.tracking.findorbit4(acc)\n",
    "rin = np.array([2e-5+orb[0],0+orb[1],1e-8+orb[2],0+orb[3],0,0])\n",
    "rout, *_ = pyaccel.tracking.ringpass(acc,rin, nr_turns = 100,\n",
    "                                    turn_by_turn = 'closed',\n",
    "                                    element_offset = 0)\n",
    "r = np.dstack([rin[None,:,None],rout])"
   ]
  },
  {
   "cell_type": "code",
   "execution_count": null,
   "metadata": {
    "collapsed": false
   },
   "outputs": [],
   "source": [
    "pars = fitEllipse(r[0][2],r[0][3])\n",
    "c    = ellipse_center(pars)\n",
    "ang  = ellipse_angle_of_rotation(pars)\n",
    "a,b  = ellipse_axis_length(pars)"
   ]
  },
  {
   "cell_type": "code",
   "execution_count": null,
   "metadata": {
    "collapsed": false
   },
   "outputs": [],
   "source": [
    "R = np.arange(0,2*np.pi, 0.01)\n",
    "xx = c[0] + a*np.cos(R)*np.cos(ang) - b*np.sin(R)*np.sin(ang)\n",
    "yy = c[1] + a*np.cos(R)*np.sin(ang) + b*np.sin(R)*np.cos(ang)"
   ]
  },
  {
   "cell_type": "code",
   "execution_count": null,
   "metadata": {
    "collapsed": false
   },
   "outputs": [],
   "source": [
    "plt.plot(r[0][2],r[0][3],'.')\n",
    "plt.plot(xx,yy, color = 'red')\n",
    "plt.show()"
   ]
  },
  {
   "cell_type": "code",
   "execution_count": null,
   "metadata": {
    "collapsed": false
   },
   "outputs": [],
   "source": [
    "pos = pyaccel.lattice.find_spos(acc)\n",
    "twiss,*_ = pyaccel.optics.calc_twiss(acc)"
   ]
  },
  {
   "cell_type": "code",
   "execution_count": null,
   "metadata": {
    "collapsed": false
   },
   "outputs": [],
   "source": [
    "plt.plot(pos,twiss.etax)\n",
    "plt.plot(pos,twiss.etay)\n",
    "plt.show()"
   ]
  },
  {
   "cell_type": "code",
   "execution_count": null,
   "metadata": {
    "collapsed": true
   },
   "outputs": [],
   "source": []
  }
 ],
 "metadata": {
  "kernelspec": {
   "display_name": "Python 3",
   "language": "python",
   "name": "python3"
  },
  "language_info": {
   "codemirror_mode": {
    "name": "ipython",
    "version": 3
   },
   "file_extension": ".py",
   "mimetype": "text/x-python",
   "name": "python",
   "nbconvert_exporter": "python",
   "pygments_lexer": "ipython3",
   "version": "3.4.0"
  }
 },
 "nbformat": 4,
 "nbformat_minor": 0
}
