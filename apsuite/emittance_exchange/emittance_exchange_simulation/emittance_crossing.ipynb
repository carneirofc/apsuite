{
 "cells": [
  {
   "cell_type": "code",
   "execution_count": 1,
   "id": "a3c5aabb",
   "metadata": {
    "ExecuteTime": {
     "end_time": "2021-12-03T18:37:38.886497Z",
     "start_time": "2021-12-03T18:37:38.877043Z"
    }
   },
   "outputs": [],
   "source": [
    "import numpy as np\n",
    "import matplotlib.pyplot as plt\n",
    "from apsuite.emittance_exchange.bo_tune_measure import tune_measure as tm\n",
    "import pymodels as pm\n",
    "import pyaccel as pa\n",
    "#%config Completer.use_jedi = False\n",
    "import pandas as pd\n",
    "import seaborn as sns"
   ]
  },
  {
   "cell_type": "markdown",
   "id": "e8c39d8c",
   "metadata": {},
   "source": [
    "# First step: estimates the necessary quadrupole variation to perform emittance crossing\n",
    "\n",
    "Our objective is find the quadrupoles strength that makes $\\Delta = \\hat{Q}_x - \\hat{Q}_y = 0$, in the machine without coupling. When we set some coupling, this configuration leads to emmitance crossing. \n",
    "\n",
    "The relation between the a variation in quadrupoles and a variation in tunes are:\n",
    "\n",
    "\\begin{equation}\n",
    "d K = \\pm \\frac{4 \\pi d Q}{\\sum \\beta_i l_i}\n",
    "\\end{equation}\n",
    "\n",
    "where $\\beta_i$ and $l_i$ refers to the average $\\beta$-function over and\n",
    "the length of quadrupole i, respectively. The sign depends\n",
    "on the plane (positive for the horizontal plane and negative\n",
    "for the vertical plane), and, similarly, the $\\beta$ i is either the\n",
    "horizontal or vertical $\\beta$-function."
   ]
  },
  {
   "cell_type": "markdown",
   "id": "1f178faa",
   "metadata": {},
   "source": [
    "* Creating the machine"
   ]
  },
  {
   "cell_type": "code",
   "execution_count": 2,
   "id": "dc5899bc",
   "metadata": {
    "ExecuteTime": {
     "end_time": "2021-12-03T18:37:39.448869Z",
     "start_time": "2021-12-03T18:37:38.889900Z"
    }
   },
   "outputs": [
    {
     "name": "stdout",
     "output_type": "stream",
     "text": [
      "Q_x = 0.20, Q_y = 0.31, Delta = -0.11\n"
     ]
    }
   ],
   "source": [
    "obj = tm.BPMeasure()\n",
    "obj.create_booster(rad=False, QF_KL=None, KsL=None)\n",
    "tune1, tune2 = obj._eqparams.tune1, obj._eqparams.tune2\n",
    "delta = tune1%1 - tune2%1\n",
    "\n",
    "print(\"Q_x = {:.2f}, Q_y = {:.2f}, Delta = {:.2f}\".format(tune1, tune2, delta))"
   ]
  },
  {
   "cell_type": "markdown",
   "id": "4e674ed2",
   "metadata": {},
   "source": [
    "We get that $\\Delta < 0$, so we need to make a $\\Delta Q>0$, that is, increase the QF forces. Lets find how much."
   ]
  },
  {
   "cell_type": "markdown",
   "id": "a96d8f51",
   "metadata": {},
   "source": [
    "We want that $\\Delta_0 + d\\Delta =0$, so:\n",
    "\n",
    "\\begin{equation}\n",
    "\\hat{Q_1} + d \\hat{Q_1} - \\hat{Q}_2 - d\\hat{Q}_2 = 0\n",
    "\\end{equation}\n",
    "\n",
    "Assuming that, given a small variation in $dK$, the variation in tunes are equal and with opposite signs  $d\\hat{Q}_1 = - d \\hat{Q}_2$, we have:\n",
    "\n",
    "\\begin{equation}\n",
    " d\\hat{Q}_1 = - \\frac{\\Delta_0}{2}\n",
    "\\end{equation}\n",
    "\n",
    "Therefore, the needed variation in quadrupoles is\n",
    "\\begin{equation}\n",
    "d K = + \\frac{2 \\pi \\Delta_0}{\\sum \\beta_i l_i}\n",
    "\\end{equation}"
   ]
  },
  {
   "cell_type": "code",
   "execution_count": 3,
   "id": "082c6a62",
   "metadata": {
    "ExecuteTime": {
     "end_time": "2021-12-03T18:37:39.454234Z",
     "start_time": "2021-12-03T18:37:39.450855Z"
    },
    "scrolled": true
   },
   "outputs": [],
   "source": [
    "qf_idx = obj._famdata['QF']['index']\n",
    "spos = obj._et.spos\n",
    "betax = obj._et.beta1"
   ]
  },
  {
   "cell_type": "code",
   "execution_count": 4,
   "id": "7a39eb74",
   "metadata": {
    "ExecuteTime": {
     "end_time": "2021-12-03T18:37:39.540212Z",
     "start_time": "2021-12-03T18:37:39.456498Z"
    }
   },
   "outputs": [],
   "source": [
    "# Assuming that the QF quadrupoles have equally lengths:\n",
    "l = obj._bo[qf_idx[0]].length\n",
    "betas = np.zeros(len(qf_idx))\n",
    "\n",
    "for i,idx in enumerate(qf_idx):\n",
    "    idx1, idx2 = idx\n",
    "    beta_values = betax[[idx1, idx2, idx2+1]]\n",
    "    betas[i] = np.mean(beta_values)\n",
    "sum_beta_l = np.sum(betas*l)"
   ]
  },
  {
   "cell_type": "code",
   "execution_count": 5,
   "id": "56f32013",
   "metadata": {
    "ExecuteTime": {
     "end_time": "2021-12-03T18:37:39.623177Z",
     "start_time": "2021-12-03T18:37:39.541481Z"
    }
   },
   "outputs": [
    {
     "name": "stdout",
     "output_type": "stream",
     "text": [
      " d K = 0.0025996062269295016 \n",
      " d KL = 0.0005927102197399264\n"
     ]
    }
   ],
   "source": [
    "deltaK = 2*np.pi*np.abs(delta)/(sum_beta_l)\n",
    "deltaKL = deltaK * l\n",
    "print(\" d K =\", deltaK, \"\\n d KL =\", deltaKL)"
   ]
  },
  {
   "cell_type": "markdown",
   "id": "1517dbd6",
   "metadata": {},
   "source": [
    "* Lets test this value with a new machine and check the tune values."
   ]
  },
  {
   "cell_type": "code",
   "execution_count": 6,
   "id": "ece6b0be",
   "metadata": {
    "ExecuteTime": {
     "end_time": "2021-12-03T18:37:40.175289Z",
     "start_time": "2021-12-03T18:37:39.624772Z"
    }
   },
   "outputs": [
    {
     "name": "stdout",
     "output_type": "stream",
     "text": [
      " QF KL force = 0.189 \n",
      " Tune 1 = 0.294 \n",
      " Tune 2 = 0.294\n"
     ]
    }
   ],
   "source": [
    "obj2 = tm.BPMeasure()\n",
    "KL_default = obj2._QF_KL_default\n",
    "\n",
    "KL_crossing = KL_default + deltaKL - 0.00011 # The last term is an euristic correction\n",
    "\n",
    "obj2.create_booster(rad=False, QF_KL=KL_crossing)\n",
    "tune1, tune2 = obj2._eqparams.tune1, obj2._eqparams.tune2\n",
    "\n",
    "print(\" QF KL force = {:.3f} \\n Tune 1 = {:.3f} \\n Tune 2 = {:.3f}\".format(KL_crossing, tune1%1 , tune2%1))"
   ]
  },
  {
   "cell_type": "markdown",
   "id": "ef844c76",
   "metadata": {},
   "source": [
    "# Checking the best point for extraction\n"
   ]
  },
  {
   "cell_type": "markdown",
   "id": "c712f26f",
   "metadata": {},
   "source": [
    "Defining the function witch computes emittance exchange quality "
   ]
  },
  {
   "cell_type": "code",
   "execution_count": 7,
   "id": "317dd451",
   "metadata": {
    "ExecuteTime": {
     "end_time": "2021-12-03T18:37:43.916342Z",
     "start_time": "2021-12-03T18:37:43.909033Z"
    }
   },
   "outputs": [],
   "source": [
    "def calc_R(emit1_0, emit2_0,emit1):\n",
    "    R = 1 - (emit1 - emit2_0)/(emit1_0 - emit2_0)\n",
    "    return R"
   ]
  },
  {
   "cell_type": "code",
   "execution_count": 8,
   "id": "00859501",
   "metadata": {
    "ExecuteTime": {
     "end_time": "2021-12-03T19:22:40.824691Z",
     "start_time": "2021-12-03T18:37:45.040546Z"
    }
   },
   "outputs": [],
   "source": [
    "# Seting parameters\n",
    "KsL = -0.02\n",
    "N = 1000\n",
    "offset = np.array(\n",
    "    [[0.5e-3],\n",
    "    [0],\n",
    "    [0.1e-3],\n",
    "    [0],\n",
    "    [0],\n",
    "    [0]]\n",
    "    )\n",
    "\n",
    "obj = tm.BPMeasure()\n",
    "obj.create_booster(rad=True, KsL=KsL)\n",
    "C = obj._coupling_coef\n",
    "obj.create_initial_bunch(n_part=1000, offset=offset)\n",
    "emit1_list, emit2_list, tune1_list, tune2_list = obj.emit_exchange_simulation(N, KL_crossing)"
   ]
  },
  {
   "cell_type": "code",
   "execution_count": 11,
   "id": "871411e4",
   "metadata": {
    "ExecuteTime": {
     "end_time": "2021-12-03T19:31:14.414740Z",
     "start_time": "2021-12-03T19:31:14.412139Z"
    }
   },
   "outputs": [],
   "source": [
    "R = calc_R(emit1_list[0], emit2_list[0], emit1_list)\n",
    "N_s = np.arange(2*N)\n",
    "#The below line is wrong, this delta is just a aproximmation\n",
    "delta = (tune1_list - tune2_list)/C # Delta in units of C"
   ]
  },
  {
   "cell_type": "code",
   "execution_count": 12,
   "id": "0c07ac14",
   "metadata": {
    "ExecuteTime": {
     "end_time": "2021-12-03T19:31:18.201389Z",
     "start_time": "2021-12-03T19:31:17.784666Z"
    }
   },
   "outputs": [
    {
     "data": {
      "text/plain": [
       "Text(0.5, 0, '$\\\\Delta [C]$')"
      ]
     },
     "execution_count": 12,
     "metadata": {},
     "output_type": "execute_result"
    },
    {
     "data": {
      "image/png": "[encoded data removed]",
      "text/plain": [
       "<Figure size 432x288 with 3 Axes>"
      ]
     },
     "metadata": {
      "needs_background": "light"
     },
     "output_type": "display_data"
    }
   ],
   "source": [
    "fig, ax = plt.subplots(3,1,sharex = True)\n",
    "ax[0].plot(N_s, emit1_list*1e9)\n",
    "ax[0].plot(N_s, emit2_list*1e9)\n",
    "ax[1].plot(N_s, tune1_list)\n",
    "ax[1].plot(N_s, tune2_list)\n",
    "ax[2].plot(N_s, R)\n",
    "ax[0].set_title(\"C ={:.2f}\".format(C))\n",
    "ax[0].set_ylabel(\"$\\epsilon_{x,y} [nm]$\")\n",
    "ax[1].set_ylabel(\"$Q_{1,2}$\")\n",
    "ax[2].set_ylabel(\"$R$\")\n",
    "ax[2].set_xlabel(\"$\\Delta [C]$\")"
   ]
  },
  {
   "cell_type": "markdown",
   "id": "5b3b8464",
   "metadata": {},
   "source": [
    "# Second step: Making the heat map of emittance exchange quality "
   ]
  },
  {
   "cell_type": "markdown",
   "id": "02b62a91",
   "metadata": {},
   "source": [
    "The rate of change of $\\Delta$ can be defined in following way:\n",
    "\n",
    "$\\dot{\\Delta} = d\\Delta/N$\n",
    "\n",
    "where $N$ is the number of revolutions that it takes to perform the **emittance crossing**.\n",
    "\n",
    "Let's investigate the quality of emittance exchange in relation to this N number of revolutions"
   ]
  },
  {
   "cell_type": "code",
   "execution_count": 65,
   "id": "648f83ae",
   "metadata": {
    "ExecuteTime": {
     "end_time": "2021-11-27T03:55:16.831852Z",
     "start_time": "2021-11-27T03:55:16.752763Z"
    }
   },
   "outputs": [],
   "source": [
    "KsL_list = np.linspace(0, -0.02, num=10)\n",
    "N_list = np.logspace(1, 3.5, num=10)\n",
    "coupling_list = KsL_list.copy()\n",
    "R_matrix = np.zeros([N_list.size, coupling_list.size])"
   ]
  },
  {
   "cell_type": "code",
   "execution_count": 66,
   "id": "c1d80a2e",
   "metadata": {
    "ExecuteTime": {
     "end_time": "2021-11-27T20:12:45.726321Z",
     "start_time": "2021-11-27T03:55:16.833630Z"
    }
   },
   "outputs": [],
   "source": [
    "for N_idx, N in enumerate(N_list):\n",
    "    N = int(N)\n",
    "    for C_idx, KsL in enumerate(KsL_list): \n",
    "        obj = tm.BPMeasure()\n",
    "        obj.create_booster(rad=True, KsL=KsL)\n",
    "        C = obj._coupling_coef\n",
    "        coupling_list[C_idx] = C\n",
    "        \n",
    "        obj.create_initial_bunch(n_part=1000)\n",
    "        \n",
    "        step = (KL_crossing - KL_default)/N\n",
    "        \n",
    "        KL_list = np.arange(KL_default, 2*KL_crossing, step)\n",
    "        \n",
    "        emit1_list = np.zeros(2*N)\n",
    "        emit2_list = emit1_list.copy()\n",
    "        tune1_list, tune2_list = emit1_list.copy(), emit1_list.copy()\n",
    "        bunch0 = obj._bunch\n",
    "        \n",
    "        #  Tracking with ring pass for 2N steps after teorical crossing.\n",
    "        # The first N steps are to perfom emittance crossing and the last \n",
    "        # N are to complete the exchange.\n",
    "        for i in range(2*N):\n",
    "            obj.change_QF(KL=KL_list[i])\n",
    "            bunch0, *_ = pa.tracking.ring_pass(accelerator=obj._bo, particles=bunch0, nr_turns=1, parallel=True)\n",
    "            \n",
    "            # Computing the RMS emittance\n",
    "            emit1_list[i] = np.sqrt(np.linalg.det(np.cov(bunch0[:2,:])))\n",
    "            emit2_list[i] = np.sqrt(np.linalg.det(np.cov(bunch0[2:4,:])))\n",
    "            \n",
    "            # Computing Tunes\n",
    "            eqparams = pa.optics.EqParamsFromBeamEnvelope(obj._bo)\n",
    "            tune1_list[i], tune2_list[i] = eqparams.tune1, eqparams.tune2\n",
    "            \n",
    "        R = calc_R(emit1=emit1_list[-1], emit1_0=emit1_list[0],\n",
    "                  emit2_0=emit2_list[0])\n",
    "        R_matrix[C_idx, N_idx] = R"
   ]
  },
  {
   "cell_type": "code",
   "execution_count": 69,
   "id": "439281cd",
   "metadata": {
    "ExecuteTime": {
     "end_time": "2021-11-29T20:35:50.680537Z",
     "start_time": "2021-11-29T20:35:50.678158Z"
    }
   },
   "outputs": [],
   "source": [
    "np.save(\"R_matrix\", R_matrix)"
   ]
  },
  {
   "cell_type": "code",
   "execution_count": 79,
   "id": "d3a1c283",
   "metadata": {
    "ExecuteTime": {
     "end_time": "2021-11-29T23:34:45.700637Z",
     "start_time": "2021-11-29T23:34:45.489184Z"
    }
   },
   "outputs": [
    {
     "data": {
      "text/plain": [
       "Text(33.0, 0.5, 'Coupling')"
      ]
     },
     "execution_count": 79,
     "metadata": {},
     "output_type": "execute_result"
    },
    {
     "data": {
      "image/png": "[encoded data removed]",
      "text/plain": [
       "<Figure size 432x288 with 2 Axes>"
      ]
     },
     "metadata": {
      "needs_background": "light"
     },
     "output_type": "display_data"
    }
   ],
   "source": [
    "R_df = pd.DataFrame(R_matrix, index = np.round(coupling_list,3), columns=N_list.astype('int'))\n",
    "R_df = R_df.reindex(index=R_df.index[::-1])\n",
    "sns.heatmap(R_df, linewidths=.05, linecolor='k')\n",
    "plt.xlabel(\"Emittance crossing duration [turns]\")\n",
    "plt.ylabel(\"Coupling\")"
   ]
  }
 ],
 "metadata": {
  "kernelspec": {
   "display_name": "Python 3",
   "language": "python",
   "name": "python3"
  },
  "language_info": {
   "codemirror_mode": {
    "name": "ipython",
    "version": 3
   },
   "file_extension": ".py",
   "mimetype": "text/x-python",
   "name": "python",
   "nbconvert_exporter": "python",
   "pygments_lexer": "ipython3",
   "version": "3.6.9"
  },
  "toc": {
   "base_numbering": 1,
   "nav_menu": {},
   "number_sections": true,
   "sideBar": true,
   "skip_h1_title": false,
   "title_cell": "Table of Contents",
   "title_sidebar": "Contents",
   "toc_cell": false,
   "toc_position": {},
   "toc_section_display": true,
   "toc_window_display": false
  },
  "varInspector": {
   "cols": {
    "lenName": 16,
    "lenType": 16,
    "lenVar": 40
   },
   "kernels_config": {
    "python": {
     "delete_cmd_postfix": "",
     "delete_cmd_prefix": "del ",
     "library": "var_list.py",
     "varRefreshCmd": "print(var_dic_list())"
    },
    "r": {
     "delete_cmd_postfix": ") ",
     "delete_cmd_prefix": "rm(",
     "library": "var_list.r",
     "varRefreshCmd": "cat(var_dic_list()) "
    }
   },
   "types_to_exclude": [
    "module",
    "function",
    "builtin_function_or_method",
    "instance",
    "_Feature"
   ],
   "window_display": false
  }
 },
 "nbformat": 4,
 "nbformat_minor": 5
}
