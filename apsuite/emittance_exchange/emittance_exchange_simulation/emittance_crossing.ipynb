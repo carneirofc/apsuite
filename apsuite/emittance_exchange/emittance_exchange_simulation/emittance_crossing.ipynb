{
 "cells": [
  {
   "cell_type": "code",
   "execution_count": 1,
   "id": "a3c5aabb",
   "metadata": {
    "ExecuteTime": {
     "end_time": "2022-01-19T15:15:30.578046Z",
     "start_time": "2022-01-19T15:15:29.995780Z"
    }
   },
   "outputs": [],
   "source": [
    "import numpy as np\n",
    "import matplotlib.pyplot as plt\n",
    "from apsuite.emittance_exchange.bo_tune_measure import tune_measure as tm\n",
    "import pymodels as pm\n",
    "import pyaccel as pa\n",
    "%config Completer.use_jedi = False\n",
    "import pandas as pd\n",
    "import seaborn as sns\n",
    "from IPython.display import display, Math, Markdown"
   ]
  },
  {
   "cell_type": "markdown",
   "id": "e8c39d8c",
   "metadata": {},
   "source": [
    "# First step: estimates the necessary quadrupole variation to perform emittance crossing\n",
    "\n",
    "Our objective is find the quadrupoles strength that makes $\\Delta = \\hat{\\nu}_x - \\hat{\\nu}_y = 0$, in the machine without coupling. When we set some coupling, this configuration leads to emmitance crossing. \n",
    "\n",
    "The relation between the a variation in quadrupoles and a variation in tunes are:\n",
    "\n",
    "\\begin{equation}\n",
    "d K \\approx \\pm \\frac{4 \\pi \\, d \\nu}{\\sum \\beta_i l_i}\n",
    "\\end{equation}\n",
    "\n",
    "where $\\beta_i$ and $l_i$ refers to the average $\\beta$-function over and\n",
    "the length of quadrupole i, respectively. The sign depends\n",
    "on the plane (positive for the horizontal plane and negative\n",
    "for the vertical plane), and, similarly, the $\\beta$ i is either the\n",
    "horizontal or vertical $\\beta$-function.\n",
    "\n",
    "*Notation remark*: In this notebook i am using $d f$ notation as a reference to a finite variation of f, like the usual $\\Delta f$, that was discarded because the $\\Delta$ is already used to represent tune difference. Do not think $d f$ as infinitesimal variation."
   ]
  },
  {
   "cell_type": "markdown",
   "id": "1f178faa",
   "metadata": {},
   "source": [
    "* Creating the machine"
   ]
  },
  {
   "cell_type": "code",
   "execution_count": 44,
   "id": "dc5899bc",
   "metadata": {
    "ExecuteTime": {
     "end_time": "2022-01-19T18:00:39.089555Z",
     "start_time": "2022-01-19T18:00:38.568037Z"
    },
    "scrolled": true
   },
   "outputs": [
    {
     "data": {
      "text/latex": [
       "$\\displaystyle \\nu_x = 0.20, \\\\ \\nu_y = 0.31,\\\\ \\Delta = -0.11.$"
      ],
      "text/plain": [
       "<IPython.core.display.Math object>"
      ]
     },
     "metadata": {},
     "output_type": "display_data"
    }
   ],
   "source": [
    "obj = tm.BPMeasure()\n",
    "obj.create_booster(rad=False, QF_KL=None, KsL=None)\n",
    "tune1, tune2 = obj._eqparams.tune1, obj._eqparams.tune2\n",
    "delta = tune1%1 - tune2%1\n",
    "\n",
    "display(Math(r\"\\nu_x = {:.2f}, \\\\ \\nu_y = {:.2f},\\\\ \\Delta = {:.2f}.\".format(tune1, tune2, delta)))"
   ]
  },
  {
   "cell_type": "markdown",
   "id": "4e674ed2",
   "metadata": {},
   "source": [
    "Lets suppose that the emittance exchange will be occur in a **static case**, where from cycle to cycle the tune in one plane is usually varied, keeping the other fixed. Both tunes remain constant during each cycle.\n",
    "\n",
    "So, lets consider that $d \\nu_y \\approx 0$ when varying $\\nu_x$ in order to get $\\Delta = 0$."
   ]
  },
  {
   "cell_type": "markdown",
   "id": "a96d8f51",
   "metadata": {},
   "source": [
    "Consider that $\\Delta_0 + d\\Delta =0$, where $\\Delta_0$ is the initial tune separation and $d \\Delta$ is the variation of $\\Delta$ during the emittance exchange process. Therefore:\n",
    "\n",
    "\\begin{equation}\n",
    "d \\hat{Q}_x =  - \\Delta_0\n",
    "\\end{equation}\n",
    "\n",
    "Therefore, the needed variation in quadrupoles is\n",
    "\\begin{equation}\n",
    "d K_x = - \\frac{4 \\pi \\Delta_0}{\\sum \\beta_i l_i}\n",
    "\\end{equation}\n",
    "\n",
    "But, for some reason that I couldn't explain, the above formula only returns the right values if we divide the right side by 2.\n",
    "\n",
    "\\begin{equation}\n",
    "d K_x = - \\frac{2 \\pi \\Delta_0}{\\sum \\beta_i l_i} \n",
    "\\end{equation}"
   ]
  },
  {
   "cell_type": "code",
   "execution_count": 45,
   "id": "082c6a62",
   "metadata": {
    "ExecuteTime": {
     "end_time": "2022-01-19T18:00:40.010086Z",
     "start_time": "2022-01-19T18:00:40.002844Z"
    },
    "scrolled": true
   },
   "outputs": [],
   "source": [
    "qf_idx = obj._famdata['QF']['index'].copy()\n",
    "spos = obj._et.spos\n",
    "betax = obj._et.beta1"
   ]
  },
  {
   "cell_type": "code",
   "execution_count": 46,
   "id": "7a39eb74",
   "metadata": {
    "ExecuteTime": {
     "end_time": "2022-01-19T18:00:41.028110Z",
     "start_time": "2022-01-19T18:00:41.014289Z"
    }
   },
   "outputs": [],
   "source": [
    "# Assuming that the QF quadrupoles have equally lengths:\n",
    "l = obj._bo[qf_idx[0]].length \n",
    "betas = np.zeros(len(qf_idx))\n",
    "\n",
    "for i,idx in enumerate(qf_idx):\n",
    "    idx1, idx2 = idx\n",
    "    beta_values = betax[[idx1, idx2, idx2+1]]\n",
    "    betas[i] = np.mean(beta_values)\n",
    "sum_beta_l = np.sum(betas*l)"
   ]
  },
  {
   "cell_type": "code",
   "execution_count": 47,
   "id": "56f32013",
   "metadata": {
    "ExecuteTime": {
     "end_time": "2022-01-19T18:00:41.965575Z",
     "start_time": "2022-01-19T18:00:41.956369Z"
    }
   },
   "outputs": [
    {
     "name": "stdout",
     "output_type": "stream",
     "text": [
      "d K = 0.0025996062269295016 m^-2 \n",
      " d KL = 0.0005927102197399264 m^-1 \n"
     ]
    }
   ],
   "source": [
    "deltaK = -2*np.pi*delta/(sum_beta_l)\n",
    "deltaKL = deltaK * l\n",
    "print(\"d K = {} m^-2 \\n d KL = {} m^-1 \".format(deltaK, deltaKL))"
   ]
  },
  {
   "cell_type": "markdown",
   "id": "1517dbd6",
   "metadata": {},
   "source": [
    "* Lets test this value with a new machine and check the tune values."
   ]
  },
  {
   "cell_type": "code",
   "execution_count": 48,
   "id": "52f24a3b",
   "metadata": {
    "ExecuteTime": {
     "end_time": "2022-01-19T18:00:44.153626Z",
     "start_time": "2022-01-19T18:00:43.254796Z"
    }
   },
   "outputs": [
    {
     "data": {
      "text/latex": [
       "$\\displaystyle  K_(QF) = 0.82943 \\\\ KL_(QF) = 0.18911 \\\\ \\nu_x = 0.29448 \\\\ \\nu_y = 0.29390$"
      ],
      "text/plain": [
       "<IPython.core.display.Math object>"
      ]
     },
     "metadata": {},
     "output_type": "display_data"
    }
   ],
   "source": [
    "obj2 = tm.BPMeasure()\n",
    "obj2.create_booster()\n",
    "KL_default = obj2._bo[qf_idx[0][0]].KL\n",
    "\n",
    "KL_crossing = KL_default + deltaKL - 0.00011 # The last term is an euristic correction\n",
    "K_crossing = KL_crossing/l\n",
    "obj2.create_booster(rad=False, QF_KL=KL_crossing)\n",
    "tunex, tuney = obj2._eqparams.tune1, obj2._eqparams.tune2\n",
    "\n",
    "display(Math(r\" K_(QF) = {:.5f} \\\\ KL_(QF) = {:.5f} \\\\ \\nu_x = {:.5f} \\\\ \\nu_y = {:.5f}\".format(K_crossing, KL_crossing, tunex%1 , tuney%1)))"
   ]
  },
  {
   "cell_type": "markdown",
   "id": "ef844c76",
   "metadata": {},
   "source": [
    "# Building auxiliary functions\n"
   ]
  },
  {
   "cell_type": "markdown",
   "id": "c712f26f",
   "metadata": {},
   "source": [
    "Defining the function witch computes emittance exchange quality "
   ]
  },
  {
   "cell_type": "code",
   "execution_count": 7,
   "id": "317dd451",
   "metadata": {
    "ExecuteTime": {
     "end_time": "2022-01-19T15:15:42.335459Z",
     "start_time": "2022-01-19T15:15:42.329159Z"
    }
   },
   "outputs": [],
   "source": [
    "def calc_R(emit1_0, emit2_0,emit1):\n",
    "    R = 1 - (emit1 - emit2_0)/(emit1_0 - emit2_0)\n",
    "    return R"
   ]
  },
  {
   "cell_type": "code",
   "execution_count": 8,
   "id": "12454394",
   "metadata": {
    "ExecuteTime": {
     "end_time": "2022-01-19T15:15:43.955736Z",
     "start_time": "2022-01-19T15:15:43.952894Z"
    }
   },
   "outputs": [],
   "source": [
    "def C_to_KsL(acc, C):\n",
    "    fam_data = pm.bo.get_family_data(acc)\n",
    "    qs_idx = fam_data['QS']['index']\n",
    "    ed_tang, *_ = pa.optics.calc_edwards_teng(accelerator=acc)\n",
    "    beta1 = ed_tang.beta1[qs_idx[0]]\n",
    "    beta2 = ed_tang.beta2[qs_idx[0]]\n",
    "    KsL = -2 * np.pi * C / np.sqrt(beta1 * beta2)\n",
    "    \n",
    "    return KsL[0]"
   ]
  },
  {
   "cell_type": "markdown",
   "id": "8c22861f",
   "metadata": {},
   "source": [
    "Creating a function to compute $\\sum \\beta_i l_i$"
   ]
  },
  {
   "cell_type": "code",
   "execution_count": 9,
   "id": "df96fa82",
   "metadata": {
    "ExecuteTime": {
     "end_time": "2022-01-19T15:15:45.219377Z",
     "start_time": "2022-01-19T15:15:45.216001Z"
    }
   },
   "outputs": [],
   "source": [
    "def compute_sum_beta_l(acc):    \n",
    "    ed_teng, _ = pa.optics.calc_edwards_teng(bo)\n",
    "    famdata = pm.bo.get_family_data(acc)\n",
    "    qf_idx = famdata['QF']['index'].copy()\n",
    "    \n",
    "    betax = ed_teng.beta1\n",
    "    l = bo[qf_idx[0]].length \n",
    "    betas = np.zeros(len(qf_idx))\n",
    "\n",
    "    for i,idx in enumerate(qf_idx):\n",
    "        idx1, idx2 = idx\n",
    "        beta_values = betax[[idx1, idx2, idx2+1]]\n",
    "        betas[i] = np.mean(beta_values)\n",
    "    sum_beta_l = np.sum(betas*l)\n",
    "    \n",
    "    return sum_beta_l, l"
   ]
  },
  {
   "cell_type": "markdown",
   "id": "455ba9af",
   "metadata": {},
   "source": [
    "Creating a function to help us to initialize the machine with $\\Delta = - A|C|$, with A being a real number. "
   ]
  },
  {
   "cell_type": "code",
   "execution_count": 10,
   "id": "afab67a7",
   "metadata": {
    "ExecuteTime": {
     "end_time": "2022-01-19T15:15:48.541718Z",
     "start_time": "2022-01-19T15:15:48.534408Z"
    }
   },
   "outputs": [],
   "source": [
    "def set_tune_sep(acc, delta_f):\n",
    "    \"Sets delta to delta_f\"\n",
    "       \n",
    "    bo = acc[:]\n",
    "    famdata = pm.bo.get_family_data(bo)\n",
    "    qf_idx = np.array(famdata['QF']['index']).flatten()\n",
    "    eqparams = pa.optics.EqParamsFromBeamEnvelope(bo)\n",
    "    ed_teng, _ = pa.optics.calc_edwards_teng(bo)\n",
    "    C, _ = pa.optics.estimate_coupling_parameters(ed_teng)\n",
    "    \n",
    "    tune1, tune2 = eqparams.tune1, eqparams.tune2\n",
    "    delta_c = tune1 - tune2\n",
    "    delta = np.sign(delta_c) * np.sqrt(delta_c**2 - C**2)\n",
    "    \n",
    "    sum_beta_l, l = compute_sum_beta_l(bo)\n",
    "    dv_x = delta_f - delta\n",
    "    deltaK_x = 2*np.pi*dv_x/(sum_beta_l)\n",
    "    deltaKL_x = deltaK_x * l\n",
    "    \n",
    "    KL_x  = bo[qf_idx[0]].KL\n",
    "    for qf in qf_idx:\n",
    "        bo[qf].KL = KL_x + deltaKL_x\n",
    "    \n",
    "    eqparams = pa.optics.EqParamsFromBeamEnvelope(bo)\n",
    "    tune1, tune2 = eqparams.tune1, eqparams.tune2\n",
    "    delta_c = tune1 - tune2\n",
    "    delta = np.sign(delta_c) * np.sqrt(delta_c**2 - C**2)\n",
    "    \n",
    "    #display(Math(r\"\\nu_1 = {:.3f} \\\\ \\nu_2 = {:.3f}\".format(tune1%1 , tune2%1)))\n",
    "    #print(rf\"$\\Delta$ setted to {delta}\")\n",
    "    return bo, delta"
   ]
  },
  {
   "cell_type": "markdown",
   "id": "16071be1",
   "metadata": {},
   "source": [
    "Searching for values of coupling that avoid integer resonances "
   ]
  },
  {
   "cell_type": "code",
   "execution_count": 67,
   "id": "96eaea10",
   "metadata": {
    "ExecuteTime": {
     "end_time": "2022-01-18T13:44:08.383275Z",
     "start_time": "2022-01-18T13:43:57.526534Z"
    },
    "scrolled": true
   },
   "outputs": [],
   "source": [
    "KsL_list = np.linspace(0.001, 0.03, num=10)\n",
    "deltas = np.zeros(KsL_list.size)\n",
    "tune1 = np.zeros(KsL_list.size)\n",
    "tune2 = tune1.copy()\n",
    "A = 6\n",
    "C_list = deltas.copy()\n",
    "precision = C_list.copy()\n",
    "for i, ksl in enumerate(KsL_list):\n",
    "    objtest2 = tm.BPMeasure()\n",
    "    objtest2.create_booster(KsL = ksl)\n",
    "    C = objtest2._coupling_coef\n",
    "    C_list[i] = C\n",
    "    objtest2, deltas[i] = set_tune_sep(objtest2, -A*C)\n",
    "    tune1[i] = objtest2.eqparams.tune1\n",
    "    tune2[i] = objtest2.eqparams.tune2\n",
    "    deltas[i] /= C"
   ]
  },
  {
   "cell_type": "code",
   "execution_count": 68,
   "id": "46361a62",
   "metadata": {
    "ExecuteTime": {
     "end_time": "2022-01-18T13:44:10.231211Z",
     "start_time": "2022-01-18T13:44:10.090208Z"
    }
   },
   "outputs": [
    {
     "data": {
      "image/png": "[encoded data removed]",
      "text/plain": [
       "<Figure size 576x432 with 1 Axes>"
      ]
     },
     "metadata": {
      "needs_background": "light"
     },
     "output_type": "display_data"
    }
   ],
   "source": [
    "plt.plot(C_list, tune1)\n",
    "plt.plot(C_list, tune2)\n",
    "plt.hlines(0.1, np.min(C_list), np.max(C_list), 'r', linestyle='--')\n",
    "plt.hlines(0.4,  np.min(C_list), np.max(C_list), 'r', linestyle='--')\n",
    "plt.xlabel('C')\n",
    "plt.ylabel(r'$\\nu_{1,2}$')\n",
    "plt.show()"
   ]
  },
  {
   "cell_type": "markdown",
   "id": "3071213c",
   "metadata": {},
   "source": [
    "Lets limit our coupling coefficient to $ 0.01 < C < 0.03 $"
   ]
  },
  {
   "cell_type": "code",
   "execution_count": 71,
   "id": "d4091279",
   "metadata": {
    "ExecuteTime": {
     "end_time": "2022-01-18T13:51:58.705258Z",
     "start_time": "2022-01-18T13:51:58.287799Z"
    }
   },
   "outputs": [
    {
     "name": "stdout",
     "output_type": "stream",
     "text": [
      " KsL minimum: -0.0051 \n",
      " KsL maximum: -0.0154\n"
     ]
    }
   ],
   "source": [
    "C_min = 0.01\n",
    "C_max = 0.03\n",
    "KsL_min = C_to_KsL(objtest2._bo, C_min)\n",
    "KsL_max = C_to_KsL(objtest2._bo, C_max)\n",
    "print(' KsL minimum: {:.4f} \\n KsL maximum: {:.4f}'.format(KsL_min, KsL_max))"
   ]
  },
  {
   "cell_type": "markdown",
   "id": "cdd64bb7",
   "metadata": {},
   "source": [
    "# Emittance exchange simulation (open code)"
   ]
  },
  {
   "cell_type": "markdown",
   "id": "2599131f",
   "metadata": {},
   "source": [
    "Creating the machine\n"
   ]
  },
  {
   "cell_type": "code",
   "execution_count": 36,
   "id": "e6ab7f61",
   "metadata": {
    "ExecuteTime": {
     "end_time": "2022-01-19T16:36:53.881302Z",
     "start_time": "2022-01-19T16:36:53.545175Z"
    }
   },
   "outputs": [
    {
     "name": "stdout",
     "output_type": "stream",
     "text": [
      "Coupling coefficient: 0.02533067517096\n"
     ]
    }
   ],
   "source": [
    "bo = pm.bo.create_accelerator(energy=3e9)\n",
    "bo.vchamber_on = True\n",
    "bo.cavity_on = True\n",
    "bo.radiation_on = False\n",
    "\n",
    "# Geting information \n",
    "famdata = pm.bo.get_family_data(bo)\n",
    "\n",
    "# Setting coupling\n",
    "KsL = -0.015\n",
    "qs_idx = famdata['QS']['index']\n",
    "bo[qs_idx[0][0]].KsL = KsL\n",
    "\n",
    "#Getting default quadrupoles strength\n",
    "qf_idx = famdata['QF']['index']\n",
    "KL_default = bo[qf_idx[0][0]].KL\n",
    "KL_crossing = 0.18911\n",
    "\n",
    "ed_teng, _ = pa.optics.calc_edwards_teng(bo)\n",
    "C, _ = pa.optics.estimate_coupling_parameters(ed_teng)\n",
    "print(f'Coupling coefficient: {C}')"
   ]
  },
  {
   "cell_type": "markdown",
   "id": "c68bc317",
   "metadata": {},
   "source": [
    "Creating the bunch"
   ]
  },
  {
   "cell_type": "code",
   "execution_count": 37,
   "id": "b07bb92c",
   "metadata": {
    "ExecuteTime": {
     "end_time": "2022-01-19T16:36:58.667915Z",
     "start_time": "2022-01-19T16:36:58.483170Z"
    }
   },
   "outputs": [],
   "source": [
    "# Creating the bunch\n",
    "eqparams = pa.optics.EqParamsFromBeamEnvelope(bo)\n",
    "emit1, emit2 = eqparams.emit1, np.abs(eqparams.emit2)\n",
    "sigmae, sigmal = eqparams.espread0, eqparams.bunlen\n",
    "# #redistributing emittances\n",
    "# emit = emit1 + emit2\n",
    "# emit1, emit2 =  0.8*emit, 0.2*emit\n",
    "\n",
    "bunch = pa.tracking.generate_bunch(n_part=1000, emit1=emit1,\n",
    "                                                  emit2=emit2,\n",
    "                                                  optics=ed_teng[0],\n",
    "                                                  sigmae=sigmae, sigmas=sigmal)\n",
    "co = pa.tracking.find_orbit6(accelerator=bo, indices=[0])\n",
    "bunch += co"
   ]
  },
  {
   "cell_type": "markdown",
   "id": "702ef458",
   "metadata": {},
   "source": [
    "Comparing input emittance and the RMS emittance "
   ]
  },
  {
   "cell_type": "code",
   "execution_count": 38,
   "id": "a0fb112e",
   "metadata": {
    "ExecuteTime": {
     "end_time": "2022-01-19T16:37:01.157138Z",
     "start_time": "2022-01-19T16:37:01.145139Z"
    },
    "scrolled": true
   },
   "outputs": [
    {
     "data": {
      "text/plain": [
       "(3.4447569836156335e-09, 4.889992485797629e-09)"
      ]
     },
     "execution_count": 38,
     "metadata": {},
     "output_type": "execute_result"
    }
   ],
   "source": [
    "emit1, np.sqrt(np.linalg.det(np.cov(bunch[:2,:])))"
   ]
  },
  {
   "cell_type": "code",
   "execution_count": 39,
   "id": "97901dec",
   "metadata": {
    "ExecuteTime": {
     "end_time": "2022-01-19T16:37:02.422787Z",
     "start_time": "2022-01-19T16:37:02.419070Z"
    },
    "scrolled": false
   },
   "outputs": [
    {
     "data": {
      "text/plain": [
       "(1.4637239616812466e-10, 1.972645806034445e-10)"
      ]
     },
     "execution_count": 39,
     "metadata": {},
     "output_type": "execute_result"
    }
   ],
   "source": [
    "emit2, np.sqrt(np.linalg.det(np.cov(bunch[2:4,:])))"
   ]
  },
  {
   "cell_type": "markdown",
   "id": "3b0dbdbf",
   "metadata": {},
   "source": [
    "Tracking the emittance exchange"
   ]
  },
  {
   "cell_type": "code",
   "execution_count": 40,
   "id": "74d90087",
   "metadata": {
    "ExecuteTime": {
     "end_time": "2022-01-19T16:46:40.186413Z",
     "start_time": "2022-01-19T16:37:05.086400Z"
    },
    "scrolled": false
   },
   "outputs": [
    {
     "name": "stdout",
     "output_type": "stream",
     "text": [
      "Initial delta = -6.363 [C]\n",
      "step 0\t\n",
      "step 100\tstep 200\tstep 300\tstep 400\tstep 500\t\n",
      "step 600\tstep 700\tstep 800\tstep 900\tstep 1000\t\n",
      "step 1100\tstep 1200\tstep 1300\tstep 1400\tstep 1500\t\n",
      "step 1600\tstep 1700\tstep 1800\tstep 1900\tstep 2000\t\n",
      "step 2100\tstep 2200\tstep 2300\tstep 2400\tstep 2500\t\n",
      "step 2600\tstep 2700\tstep 2800\tstep 2900\tstep 3000\t\n",
      "step 3100\tstep 3200\tstep 3300\tstep 3400\tstep 3500\t\n",
      "step 3600\tstep 3700\tstep 3800\tstep 3900\t"
     ]
    }
   ],
   "source": [
    "bo, delta = set_tune_sep(bo, -6*C)\n",
    "print(\"Initial delta = {:.3f} [C]\".format(delta/C))\n",
    "\n",
    "KL_default = bo[qf_idx[0][0]].KL\n",
    "\n",
    "N = 2000 # Turns until the exchange\n",
    "dKL = KL_crossing - KL_default\n",
    "KL_list = np.linspace(KL_default, KL_default + 2*dKL, 2*N)\n",
    "\n",
    "emit1_list = np.zeros(KL_list.shape)\n",
    "emit2_list = emit1_list.copy()\n",
    "tune1_list, tune2_list = emit1_list.copy(), emit1_list.copy()\n",
    "\n",
    "bunch0 = bunch\n",
    "\n",
    "# The first N steps are to perfom emittance crossing and the last \n",
    "# N are to complete the exchange.\n",
    "for i, KL in enumerate(KL_list):\n",
    "    \n",
    "    # Changing quadrupole forces\n",
    "    qf_idx = np.array(famdata['QF']['index']).flatten()\n",
    "    for qf in qf_idx:\n",
    "        bo[qf].KL = KL\n",
    "    \n",
    "    # Making the linear map\n",
    "    m66 = pa.tracking.find_m66(bo)\n",
    "    bunch0 = np.dot(m66, bunch0)\n",
    "    \n",
    "    # Computing the RMS emittance\n",
    "    emit1_list[i] = np.sqrt(np.linalg.det(np.cov(bunch0[:2,:])))\n",
    "    emit2_list[i] = np.sqrt(np.linalg.det(np.cov(bunch0[2:4,:])))\n",
    "\n",
    "    # Computing Tunes\n",
    "    eqparams = pa.optics.EqParamsFromBeamEnvelope(bo)\n",
    "    tune1_list[i], tune2_list[i] = eqparams.tune1, eqparams.tune2\n",
    "    \n",
    "    # Printing progress\n",
    "    if i % 100 == 0:\n",
    "        print(f\"step {i}\", end='\\t')\n",
    "    if i % 500 == 0:\n",
    "        print('')"
   ]
  },
  {
   "cell_type": "code",
   "execution_count": 30,
   "id": "f787e006",
   "metadata": {
    "ExecuteTime": {
     "end_time": "2022-01-19T16:32:43.970181Z",
     "start_time": "2022-01-19T16:32:43.961566Z"
    }
   },
   "outputs": [
    {
     "name": "stdout",
     "output_type": "stream",
     "text": [
      "98.65428441431845\n"
     ]
    }
   ],
   "source": [
    "T_r = 1.657 * 1e-3 #  Revolution period [ms]\n",
    "S = np.abs(tune1_list[0] - tune2_list[0])/(2000 * T_r*0.02**2)\n",
    "print(S)"
   ]
  },
  {
   "cell_type": "markdown",
   "id": "7e19714e",
   "metadata": {},
   "source": [
    "Plotting the results"
   ]
  },
  {
   "cell_type": "code",
   "execution_count": 43,
   "id": "cfbecb19",
   "metadata": {
    "ExecuteTime": {
     "end_time": "2022-01-19T17:51:21.906610Z",
     "start_time": "2022-01-19T17:51:21.624751Z"
    }
   },
   "outputs": [
    {
     "data": {
      "image/png": "[encoded data removed]",
      "text/plain": [
       "<Figure size 576x432 with 3 Axes>"
      ]
     },
     "metadata": {
      "needs_background": "light"
     },
     "output_type": "display_data"
    }
   ],
   "source": [
    "plt.style.use(['notebook', 'no-latex'])\n",
    "deltae = tune1_list - tune2_list\n",
    "C = np.min(np.abs(deltae)) # True coupling coefficent\n",
    "delta = np.sign(deltae)*np.sqrt(deltae**2 - C**2)\n",
    "R = calc_R(emit1_list[0], emit2_list[0], emit1_list)\n",
    "\n",
    "fig,ax = plt.subplots(3,1, sharex=False)\n",
    "\n",
    "N = np.arange(len(delta))\n",
    "t = N * T_r\n",
    "\n",
    "ax[0].plot(delta/C, emit1_list*1e9)\n",
    "ax[0].plot(delta/C, emit2_list*1e9)\n",
    "ax[0].set_ylabel(\"$\\epsilon_{x,y}$ [nm]\")\n",
    "ax[0].set_xlabel('$\\Delta [C]$')\n",
    "ax[0].set_title('C={:.2f}, S={:.2f}, radiation off'.format(C, S))\n",
    "\n",
    "ax[1].plot(t, tune1_list)\n",
    "ax[1].plot(t, tune2_list)\n",
    "ax[1].set_ylabel(\"$\\nu_{x,y}$\")\n",
    "\n",
    "ax[2].plot(t, R)\n",
    "ax[2].set_ylabel('$R$')\n",
    "ax[2].set_xlabel(\"Time [ms]\")\n",
    "ax[2].hlines(1, np.min(t), np.max(t), linestyle='--')\n",
    "\n",
    "plt.tight_layout()"
   ]
  },
  {
   "cell_type": "code",
   "execution_count": 74,
   "id": "4555606c",
   "metadata": {
    "ExecuteTime": {
     "end_time": "2022-01-19T14:39:30.316614Z",
     "start_time": "2022-01-19T14:39:30.307018Z"
    },
    "scrolled": true
   },
   "outputs": [
    {
     "data": {
      "text/plain": [
       "(0.18911010397516692, 0.18911004362884618)"
      ]
     },
     "execution_count": 74,
     "metadata": {},
     "output_type": "execute_result"
    }
   ],
   "source": [
    "KL_list[4000], KL_crossing"
   ]
  },
  {
   "cell_type": "code",
   "execution_count": 24,
   "id": "da4897d3",
   "metadata": {
    "ExecuteTime": {
     "end_time": "2022-01-19T16:27:45.587692Z",
     "start_time": "2022-01-19T16:27:45.578401Z"
    }
   },
   "outputs": [
    {
     "data": {
      "text/plain": [
       "0.07300837791469084"
      ]
     },
     "execution_count": 24,
     "metadata": {},
     "output_type": "execute_result"
    }
   ],
   "source": [
    "C"
   ]
  },
  {
   "cell_type": "markdown",
   "id": "5b3b8464",
   "metadata": {
    "heading_collapsed": true
   },
   "source": [
    "# Second step: Making the heat map of emittance exchange quality "
   ]
  },
  {
   "cell_type": "markdown",
   "id": "02b62a91",
   "metadata": {
    "hidden": true
   },
   "source": [
    "The rate of change of $\\Delta$ can be defined in following way:\n",
    "\n",
    "$\\dot{\\Delta} = d\\Delta/N$\n",
    "\n",
    "where $N$ is the number of revolutions that it takes to perform the **emittance crossing**. The simulation finishes after N revolutions after the crossing."
   ]
  },
  {
   "cell_type": "code",
   "execution_count": 65,
   "id": "648f83ae",
   "metadata": {
    "ExecuteTime": {
     "end_time": "2021-11-27T03:55:16.831852Z",
     "start_time": "2021-11-27T03:55:16.752763Z"
    },
    "hidden": true
   },
   "outputs": [],
   "source": [
    "KsL_list = np.linspace(0, -0.02, num=10)\n",
    "N_list = np.logspace(1, 3.5, num=10)\n",
    "coupling_list = KsL_list.copy()\n",
    "R_matrix = np.zeros([N_list.size, coupling_list.size])"
   ]
  },
  {
   "cell_type": "code",
   "execution_count": 66,
   "id": "c1d80a2e",
   "metadata": {
    "ExecuteTime": {
     "end_time": "2021-11-27T20:12:45.726321Z",
     "start_time": "2021-11-27T03:55:16.833630Z"
    },
    "hidden": true
   },
   "outputs": [],
   "source": [
    "for N_idx, N in enumerate(N_list):\n",
    "    N = int(N)\n",
    "    for C_idx, KsL in enumerate(KsL_list): \n",
    "        obj = tm.BPMeasure()\n",
    "        obj.create_booster(rad=False, KsL=KsL)\n",
    "        C = obj._coupling_coef\n",
    "        coupling_list[C_idx] = C\n",
    "        \n",
    "        obj.create_initial_bunch(n_part=1000)\n",
    "        \n",
    "        step = (KL_crossing - KL_default)/N\n",
    "        \n",
    "        KL_list = np.arange(KL_default, 2*KL_crossing, step)\n",
    "        \n",
    "        emit1_list = np.zeros(2*N)\n",
    "        emit2_list = emit1_list.copy()\n",
    "        tune1_list, tune2_list = emit1_list.copy(), emit1_list.copy()\n",
    "        bunch0 = obj._bunch\n",
    "        \n",
    "        #  Tracking with ring pass for 2N steps after teorical crossing.\n",
    "        # The first N steps are to perfom emittance crossing and the last \n",
    "        # N are to complete the exchange.\n",
    "        for i in range(2*N):\n",
    "            obj.change_QF(KL=KL_list[i])\n",
    "            bunch0, *_ = pa.tracking.ring_pass(accelerator=obj._bo, particles=bunch0, nr_turns=1, parallel=True)\n",
    "            \n",
    "            # Computing the RMS emittance\n",
    "            emit1_list[i] = np.sqrt(np.linalg.det(np.cov(bunch0[:2,:])))\n",
    "            emit2_list[i] = np.sqrt(np.linalg.det(np.cov(bunch0[2:4,:])))\n",
    "            \n",
    "            # Computing Tunes\n",
    "            eqparams = pa.optics.EqParamsFromBeamEnvelope(obj._bo)\n",
    "            tune1_list[i], tune2_list[i] = eqparams.tune1, eqparams.tune2\n",
    "            \n",
    "        R = calc_R(emit1=emit1_list[-1], emit1_0=emit1_list[0],\n",
    "                  emit2_0=emit2_list[0])\n",
    "        R_matrix[C_idx, N_idx] = R"
   ]
  },
  {
   "cell_type": "code",
   "execution_count": 69,
   "id": "439281cd",
   "metadata": {
    "ExecuteTime": {
     "end_time": "2021-11-29T20:35:50.680537Z",
     "start_time": "2021-11-29T20:35:50.678158Z"
    },
    "hidden": true
   },
   "outputs": [],
   "source": [
    "np.save(\"R_matrix\", R_matrix)"
   ]
  },
  {
   "cell_type": "code",
   "execution_count": 79,
   "id": "d3a1c283",
   "metadata": {
    "ExecuteTime": {
     "end_time": "2021-11-29T23:34:45.700637Z",
     "start_time": "2021-11-29T23:34:45.489184Z"
    },
    "hidden": true
   },
   "outputs": [
    {
     "data": {
      "text/plain": [
       "Text(33.0, 0.5, 'Coupling')"
      ]
     },
     "execution_count": 79,
     "metadata": {},
     "output_type": "execute_result"
    },
    {
     "data": {
      "image/png": "[encoded data removed]",
      "text/plain": [
       "<Figure size 432x288 with 2 Axes>"
      ]
     },
     "metadata": {
      "needs_background": "light"
     },
     "output_type": "display_data"
    }
   ],
   "source": [
    "R_df = pd.DataFrame(R_matrix, index = np.round(coupling_list,3), columns=N_list.astype('int'))\n",
    "R_df = R_df.reindex(index=R_df.index[::-1])\n",
    "sns.heatmap(R_df, linewidths=.05, linecolor='k')\n",
    "plt.xlabel(\"Emittance crossing duration [turns]\")\n",
    "plt.ylabel(\"Coupling\")"
   ]
  }
 ],
 "metadata": {
  "kernelspec": {
   "display_name": "Python 3",
   "language": "python",
   "name": "python3"
  },
  "language_info": {
   "codemirror_mode": {
    "name": "ipython",
    "version": 3
   },
   "file_extension": ".py",
   "mimetype": "text/x-python",
   "name": "python",
   "nbconvert_exporter": "python",
   "pygments_lexer": "ipython3",
   "version": "3.6.9"
  },
  "toc": {
   "base_numbering": 1,
   "nav_menu": {},
   "number_sections": true,
   "sideBar": true,
   "skip_h1_title": false,
   "title_cell": "Table of Contents",
   "title_sidebar": "Contents",
   "toc_cell": false,
   "toc_position": {},
   "toc_section_display": true,
   "toc_window_display": false
  },
  "varInspector": {
   "cols": {
    "lenName": 16,
    "lenType": 16,
    "lenVar": 40
   },
   "kernels_config": {
    "python": {
     "delete_cmd_postfix": "",
     "delete_cmd_prefix": "del ",
     "library": "var_list.py",
     "varRefreshCmd": "print(var_dic_list())"
    },
    "r": {
     "delete_cmd_postfix": ") ",
     "delete_cmd_prefix": "rm(",
     "library": "var_list.r",
     "varRefreshCmd": "cat(var_dic_list()) "
    }
   },
   "types_to_exclude": [
    "module",
    "function",
    "builtin_function_or_method",
    "instance",
    "_Feature"
   ],
   "window_display": false
  }
 },
 "nbformat": 4,
 "nbformat_minor": 5
}
